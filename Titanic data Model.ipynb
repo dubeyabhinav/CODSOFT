{
 "cells": [
  {
   "cell_type": "markdown",
   "id": "2841818d-4cd8-4faa-8596-a2b13c9aed6c",
   "metadata": {},
   "source": [
    "# Titanic Dataset - Data Models\n",
    "\n",
    "## Task - 1\n",
    "\n",
    "- Create model that predicts the survival of a passenger based on the data given in the [Titanic dataset](https://www.kaggle.com/datasets/brendan45774/test-file).\n",
    "\n"
   ]
  },
  {
   "cell_type": "markdown",
   "id": "346194fb-2fed-4118-9ba8-e219e0bd9028",
   "metadata": {
    "jp-MarkdownHeadingCollapsed": true,
    "tags": []
   },
   "source": [
    "## About the data \n",
    "\n",
    "| **Column** Name  |  **Description** |\n",
    "| -------------|-----------------------------|\n",
    "|**PassengerId** | Id of the ticket holder |\n",
    "| **Survived** | Survival (0 = No; 1 = Yes). Not included in test.csv file |\n",
    "| **Pclass** | Ticket Class of the passangers |\n",
    "| **Name** | Name og the passenger|\n",
    "| **Sex** | Sex of the passenger|\n",
    "| **Age** | Age is fractional if less than 1. If the age is estimated, is it in the form of xx.5 |\n",
    "| **Sibsp** | Number of Siblings (brother, sister, etc.) /Spouses (husband, wife) aboard |\n",
    "| **Parch** | Number of Parents/Children aboard; Some children travelled only with a nanny, therefore parch=0 for them. |\n",
    "| **Ticket** | Ticket Number |\n",
    "| **Fare** | Fare of the ticket |\n",
    "| **Cabin** | Cabin Number |\n",
    "| **Embarked** | Port of Embarkation (C = Cherbourg; Q = Queenstown; S = Southampton) |"
   ]
  },
  {
   "cell_type": "markdown",
   "id": "5ef969d0-4108-4a28-9013-f69387c36fbb",
   "metadata": {
    "tags": []
   },
   "source": [
    "## Import required modules"
   ]
  },
  {
   "cell_type": "code",
   "execution_count": 1,
   "id": "6724b104-f619-4890-8daa-1b319b516080",
   "metadata": {},
   "outputs": [],
   "source": [
    "# required modules\n",
    "import pandas as pd\n",
    "import numpy as np\n",
    "import seaborn as sns\n",
    "import matplotlib.pyplot as plt\n",
    "%matplotlib inline\n",
    "\n",
    "# modules to model data\n",
    "from sklearn import preprocessing\n",
    "from sklearn.model_selection import train_test_split\n",
    "\n",
    "from sklearn import linear_model\n",
    "from sklearn import svm\n",
    "from sklearn.neighbors import KNeighborsClassifier\n",
    "from sklearn.tree import DecisionTreeRegressor\n",
    "from sklearn.tree import DecisionTreeClassifier\n",
    "from sklearn.svm import SVC, LinearSVC\n",
    "from sklearn.linear_model import LogisticRegression\n",
    "\n",
    "# Modules to check accuracy\n",
    "from sklearn.metrics import accuracy_score, jaccard_score, f1_score, log_loss, confusion_matrix, accuracy_score\n",
    "import sklearn.metrics as metrics\n",
    "\n",
    "# ignore warnings\n",
    "import warnings\n",
    "warnings.filterwarnings('ignore')"
   ]
  },
  {
   "cell_type": "markdown",
   "id": "1e401300-4545-4967-92d8-a15fd960fca1",
   "metadata": {
    "tags": []
   },
   "source": [
    "## Import and Inspect data"
   ]
  },
  {
   "cell_type": "code",
   "execution_count": 2,
   "id": "22b5039e-31f9-4d8c-bea9-31b4fb017482",
   "metadata": {},
   "outputs": [
    {
     "name": "stdout",
     "output_type": "stream",
     "text": [
      "Shape of the dataframe is  (418, 12)\n"
     ]
    },
    {
     "data": {
      "text/html": [
       "<div>\n",
       "<style scoped>\n",
       "    .dataframe tbody tr th:only-of-type {\n",
       "        vertical-align: middle;\n",
       "    }\n",
       "\n",
       "    .dataframe tbody tr th {\n",
       "        vertical-align: top;\n",
       "    }\n",
       "\n",
       "    .dataframe thead th {\n",
       "        text-align: right;\n",
       "    }\n",
       "</style>\n",
       "<table border=\"1\" class=\"dataframe\">\n",
       "  <thead>\n",
       "    <tr style=\"text-align: right;\">\n",
       "      <th></th>\n",
       "      <th>PassengerId</th>\n",
       "      <th>Survived</th>\n",
       "      <th>Pclass</th>\n",
       "      <th>Name</th>\n",
       "      <th>Sex</th>\n",
       "      <th>Age</th>\n",
       "      <th>SibSp</th>\n",
       "      <th>Parch</th>\n",
       "      <th>Ticket</th>\n",
       "      <th>Fare</th>\n",
       "      <th>Cabin</th>\n",
       "      <th>Embarked</th>\n",
       "    </tr>\n",
       "  </thead>\n",
       "  <tbody>\n",
       "    <tr>\n",
       "      <th>0</th>\n",
       "      <td>892</td>\n",
       "      <td>0</td>\n",
       "      <td>3</td>\n",
       "      <td>Kelly, Mr. James</td>\n",
       "      <td>male</td>\n",
       "      <td>34.5</td>\n",
       "      <td>0</td>\n",
       "      <td>0</td>\n",
       "      <td>330911</td>\n",
       "      <td>7.8292</td>\n",
       "      <td>NaN</td>\n",
       "      <td>Q</td>\n",
       "    </tr>\n",
       "    <tr>\n",
       "      <th>1</th>\n",
       "      <td>893</td>\n",
       "      <td>1</td>\n",
       "      <td>3</td>\n",
       "      <td>Wilkes, Mrs. James (Ellen Needs)</td>\n",
       "      <td>female</td>\n",
       "      <td>47.0</td>\n",
       "      <td>1</td>\n",
       "      <td>0</td>\n",
       "      <td>363272</td>\n",
       "      <td>7.0000</td>\n",
       "      <td>NaN</td>\n",
       "      <td>S</td>\n",
       "    </tr>\n",
       "    <tr>\n",
       "      <th>2</th>\n",
       "      <td>894</td>\n",
       "      <td>0</td>\n",
       "      <td>2</td>\n",
       "      <td>Myles, Mr. Thomas Francis</td>\n",
       "      <td>male</td>\n",
       "      <td>62.0</td>\n",
       "      <td>0</td>\n",
       "      <td>0</td>\n",
       "      <td>240276</td>\n",
       "      <td>9.6875</td>\n",
       "      <td>NaN</td>\n",
       "      <td>Q</td>\n",
       "    </tr>\n",
       "  </tbody>\n",
       "</table>\n",
       "</div>"
      ],
      "text/plain": [
       "   PassengerId  Survived  Pclass                              Name     Sex  \\\n",
       "0          892         0       3                  Kelly, Mr. James    male   \n",
       "1          893         1       3  Wilkes, Mrs. James (Ellen Needs)  female   \n",
       "2          894         0       2         Myles, Mr. Thomas Francis    male   \n",
       "\n",
       "    Age  SibSp  Parch  Ticket    Fare Cabin Embarked  \n",
       "0  34.5      0      0  330911  7.8292   NaN        Q  \n",
       "1  47.0      1      0  363272  7.0000   NaN        S  \n",
       "2  62.0      0      0  240276  9.6875   NaN        Q  "
      ]
     },
     "execution_count": 2,
     "metadata": {},
     "output_type": "execute_result"
    }
   ],
   "source": [
    "df = pd.read_csv('C:/Users/admin/Desktop/xyz/Jupyter Notebook/data/tested.csv')\n",
    "print('Shape of the dataframe is ', df.shape)\n",
    "df.head(3)"
   ]
  },
  {
   "cell_type": "code",
   "execution_count": 3,
   "id": "76a07738-881e-4d2d-a1b4-db5d2b4f44b5",
   "metadata": {},
   "outputs": [
    {
     "data": {
      "text/html": [
       "<div>\n",
       "<style scoped>\n",
       "    .dataframe tbody tr th:only-of-type {\n",
       "        vertical-align: middle;\n",
       "    }\n",
       "\n",
       "    .dataframe tbody tr th {\n",
       "        vertical-align: top;\n",
       "    }\n",
       "\n",
       "    .dataframe thead th {\n",
       "        text-align: right;\n",
       "    }\n",
       "</style>\n",
       "<table border=\"1\" class=\"dataframe\">\n",
       "  <thead>\n",
       "    <tr style=\"text-align: right;\">\n",
       "      <th></th>\n",
       "      <th>PassengerId</th>\n",
       "      <th>Survived</th>\n",
       "      <th>Pclass</th>\n",
       "      <th>Age</th>\n",
       "      <th>SibSp</th>\n",
       "      <th>Parch</th>\n",
       "      <th>Fare</th>\n",
       "    </tr>\n",
       "  </thead>\n",
       "  <tbody>\n",
       "    <tr>\n",
       "      <th>count</th>\n",
       "      <td>418.000000</td>\n",
       "      <td>418.000000</td>\n",
       "      <td>418.000000</td>\n",
       "      <td>332.000000</td>\n",
       "      <td>418.000000</td>\n",
       "      <td>418.000000</td>\n",
       "      <td>417.000000</td>\n",
       "    </tr>\n",
       "    <tr>\n",
       "      <th>mean</th>\n",
       "      <td>1100.500000</td>\n",
       "      <td>0.363636</td>\n",
       "      <td>2.265550</td>\n",
       "      <td>30.272590</td>\n",
       "      <td>0.447368</td>\n",
       "      <td>0.392344</td>\n",
       "      <td>35.627188</td>\n",
       "    </tr>\n",
       "    <tr>\n",
       "      <th>std</th>\n",
       "      <td>120.810458</td>\n",
       "      <td>0.481622</td>\n",
       "      <td>0.841838</td>\n",
       "      <td>14.181209</td>\n",
       "      <td>0.896760</td>\n",
       "      <td>0.981429</td>\n",
       "      <td>55.907576</td>\n",
       "    </tr>\n",
       "    <tr>\n",
       "      <th>min</th>\n",
       "      <td>892.000000</td>\n",
       "      <td>0.000000</td>\n",
       "      <td>1.000000</td>\n",
       "      <td>0.170000</td>\n",
       "      <td>0.000000</td>\n",
       "      <td>0.000000</td>\n",
       "      <td>0.000000</td>\n",
       "    </tr>\n",
       "    <tr>\n",
       "      <th>25%</th>\n",
       "      <td>996.250000</td>\n",
       "      <td>0.000000</td>\n",
       "      <td>1.000000</td>\n",
       "      <td>21.000000</td>\n",
       "      <td>0.000000</td>\n",
       "      <td>0.000000</td>\n",
       "      <td>7.895800</td>\n",
       "    </tr>\n",
       "    <tr>\n",
       "      <th>50%</th>\n",
       "      <td>1100.500000</td>\n",
       "      <td>0.000000</td>\n",
       "      <td>3.000000</td>\n",
       "      <td>27.000000</td>\n",
       "      <td>0.000000</td>\n",
       "      <td>0.000000</td>\n",
       "      <td>14.454200</td>\n",
       "    </tr>\n",
       "    <tr>\n",
       "      <th>75%</th>\n",
       "      <td>1204.750000</td>\n",
       "      <td>1.000000</td>\n",
       "      <td>3.000000</td>\n",
       "      <td>39.000000</td>\n",
       "      <td>1.000000</td>\n",
       "      <td>0.000000</td>\n",
       "      <td>31.500000</td>\n",
       "    </tr>\n",
       "    <tr>\n",
       "      <th>max</th>\n",
       "      <td>1309.000000</td>\n",
       "      <td>1.000000</td>\n",
       "      <td>3.000000</td>\n",
       "      <td>76.000000</td>\n",
       "      <td>8.000000</td>\n",
       "      <td>9.000000</td>\n",
       "      <td>512.329200</td>\n",
       "    </tr>\n",
       "  </tbody>\n",
       "</table>\n",
       "</div>"
      ],
      "text/plain": [
       "       PassengerId    Survived      Pclass         Age       SibSp  \\\n",
       "count   418.000000  418.000000  418.000000  332.000000  418.000000   \n",
       "mean   1100.500000    0.363636    2.265550   30.272590    0.447368   \n",
       "std     120.810458    0.481622    0.841838   14.181209    0.896760   \n",
       "min     892.000000    0.000000    1.000000    0.170000    0.000000   \n",
       "25%     996.250000    0.000000    1.000000   21.000000    0.000000   \n",
       "50%    1100.500000    0.000000    3.000000   27.000000    0.000000   \n",
       "75%    1204.750000    1.000000    3.000000   39.000000    1.000000   \n",
       "max    1309.000000    1.000000    3.000000   76.000000    8.000000   \n",
       "\n",
       "            Parch        Fare  \n",
       "count  418.000000  417.000000  \n",
       "mean     0.392344   35.627188  \n",
       "std      0.981429   55.907576  \n",
       "min      0.000000    0.000000  \n",
       "25%      0.000000    7.895800  \n",
       "50%      0.000000   14.454200  \n",
       "75%      0.000000   31.500000  \n",
       "max      9.000000  512.329200  "
      ]
     },
     "execution_count": 3,
     "metadata": {},
     "output_type": "execute_result"
    }
   ],
   "source": [
    "df.describe()"
   ]
  },
  {
   "cell_type": "markdown",
   "id": "e1ffad51-dd0d-406e-b19d-4f05b9d47fe8",
   "metadata": {},
   "source": [
    "These are all the numerical columns of the dataframe. We can get a general idea about the type, range and the nature of data in these columns. As we can also see some missing values in the Fare column.  "
   ]
  },
  {
   "cell_type": "markdown",
   "id": "aa94967f-ed43-46bb-92d2-0fd13a17a951",
   "metadata": {},
   "source": [
    "Let us take a lok at the correlation of these columns."
   ]
  },
  {
   "cell_type": "code",
   "execution_count": 4,
   "id": "b238f9d7-cd6a-495e-8456-97778c418736",
   "metadata": {},
   "outputs": [
    {
     "data": {
      "text/plain": [
       "<Axes: >"
      ]
     },
     "execution_count": 4,
     "metadata": {},
     "output_type": "execute_result"
    },
    {
     "data": {
      "image/png": "[encoded data removed]",
      "text/plain": [
       "<Figure size 700x500 with 2 Axes>"
      ]
     },
     "metadata": {},
     "output_type": "display_data"
    }
   ],
   "source": [
    "plt.figure(figsize=(7,5))\n",
    "sns.heatmap(df.corr(), annot=True, cmap='BrBG',             # 'cividis_r'\n",
    "            vmin=-1, vmax=1,\n",
    "            annot_kws={'fontsize':8, 'family':'serif'}\n",
    "           )"
   ]
  },
  {
   "cell_type": "markdown",
   "id": "29e36b71-62cb-4e50-90fe-6dd1900534b2",
   "metadata": {},
   "source": [
    "Any block with a darker shade is correlated either positively or negatively. \n",
    "\n",
    "We also spot an anomaly in the _'Sex'_ column which shows a complete negative correlation _(-1)_. We shall inspect it further in the notebook."
   ]
  },
  {
   "cell_type": "markdown",
   "id": "b115f663-91e6-4a8e-ba83-15b71fe4a240",
   "metadata": {
    "tags": []
   },
   "source": [
    "## Handling missing values\n",
    "\n",
    "Check for the missing values in the columns and handle them efficiently."
   ]
  },
  {
   "cell_type": "code",
   "execution_count": 6,
   "id": "9df9b5fd-e5f0-4b46-a069-be9787109619",
   "metadata": {},
   "outputs": [
    {
     "name": "stdout",
     "output_type": "stream",
     "text": [
      "PassengerId  : False  - 0 :\t 0.0 %\n",
      "Survived  : False  - 0 :\t 0.0 %\n",
      "Pclass  : False  - 0 :\t 0.0 %\n",
      "Name  : False  - 0 :\t 0.0 %\n",
      "Sex  : False  - 0 :\t 0.0 %\n",
      "Age  : True  - 86 :\t 20.57 %\n",
      "SibSp  : False  - 0 :\t 0.0 %\n",
      "Parch  : False  - 0 :\t 0.0 %\n",
      "Ticket  : False  - 0 :\t 0.0 %\n",
      "Fare  : True  - 1 :\t 0.24 %\n",
      "Cabin  : True  - 327 :\t 78.23 %\n",
      "Embarked  : False  - 0 :\t 0.0 %\n"
     ]
    }
   ],
   "source": [
    "# check if any missing values exist in the columns\n",
    "for col in df.columns.tolist():\n",
    "    print(col,' :', any(df[col].isnull()),' -', \n",
    "          df[col].isna().sum(),':\\t', \n",
    "          round(df[col].isnull().sum()/df.shape[0] * 100, 2), '%'\n",
    "         )"
   ]
  },
  {
   "cell_type": "markdown",
   "id": "98f42beb",
   "metadata": {},
   "source": [
    "The columns with null values are `Age`, `Fare` and `Cabin` with 86 (_20.57%_), 1 (_0.24%)_ and 327 (_78.23%_) null values respectively.\n",
    "\n",
    "Age and Cabin columns have a large amount of missing entries. We will fill the missing entries in 'Age' as `np.nan`. While we can fill the Fare with the mean value. In the case of 'Cabin' column, I believe it will be far more suitable to drop the column altogether as we cannot make any key inferences using the cabin number of the passangers. (unless we know the position of the cabin on the ship, in which case, with sufficient data, we might be able to make an assumption on which part of the ship sunk first)"
   ]
  },
  {
   "cell_type": "code",
   "execution_count": 7,
   "id": "b87b9bd3-f7d2-495c-9f79-65b47827d9ec",
   "metadata": {},
   "outputs": [
    {
     "name": "stdout",
     "output_type": "stream",
     "text": [
      "Age     86\n",
      "Fare     0\n",
      "dtype: int64\n"
     ]
    }
   ],
   "source": [
    "# fill the missing entries \n",
    "df['Age'].fillna(np.nan, inplace=True)\n",
    "df['Fare'].fillna(df.Fare.mean(), inplace=True)\n",
    "# drop 'Cabin' col\n",
    "df.drop(columns={'Cabin'}, axis=1, inplace=True)\n",
    "\n",
    "# check for the number of null values\n",
    "print(df[['Age', 'Fare']].isnull().sum())"
   ]
  },
  {
   "cell_type": "markdown",
   "id": "8efb9d70-b8ce-4a97-8e0d-96a7d47415b2",
   "metadata": {},
   "source": [
    "We have successfully filled the missing entries in the dataframe with suitable substitutes and dropped the troublesome column."
   ]
  },
  {
   "cell_type": "markdown",
   "id": "36e00c7a",
   "metadata": {
    "tags": []
   },
   "source": [
    "## Exploratory Data Analysis\n",
    "\n",
    "We must first see the effects of the various factors on survival. We need to inspect the related columns before we make model out of them. Nobody wants too much on their plate."
   ]
  },
  {
   "cell_type": "markdown",
   "id": "f668a0ce",
   "metadata": {
    "tags": []
   },
   "source": [
    "#### Age and Sex\n",
    "Verify the effecs of age and sex on survival of the passangers."
   ]
  },
  {
   "cell_type": "code",
   "execution_count": 8,
   "id": "96b1f759-9937-4fc4-8718-d467c662ba56",
   "metadata": {},
   "outputs": [
    {
     "data": {
      "text/plain": [
       "male      266\n",
       "female    152\n",
       "Name: Sex, dtype: int64"
      ]
     },
     "execution_count": 8,
     "metadata": {},
     "output_type": "execute_result"
    }
   ],
   "source": [
    "df.Sex.value_counts()"
   ]
  },
  {
   "cell_type": "code",
   "execution_count": 9,
   "id": "71dffcb4-17b3-48bb-b28e-4ed4d180881c",
   "metadata": {},
   "outputs": [
    {
     "data": {
      "text/html": [
       "<div>\n",
       "<style scoped>\n",
       "    .dataframe tbody tr th:only-of-type {\n",
       "        vertical-align: middle;\n",
       "    }\n",
       "\n",
       "    .dataframe tbody tr th {\n",
       "        vertical-align: top;\n",
       "    }\n",
       "\n",
       "    .dataframe thead th {\n",
       "        text-align: right;\n",
       "    }\n",
       "</style>\n",
       "<table border=\"1\" class=\"dataframe\">\n",
       "  <thead>\n",
       "    <tr style=\"text-align: right;\">\n",
       "      <th></th>\n",
       "      <th></th>\n",
       "      <th>Age</th>\n",
       "    </tr>\n",
       "    <tr>\n",
       "      <th>Survived</th>\n",
       "      <th>Sex</th>\n",
       "      <th></th>\n",
       "    </tr>\n",
       "  </thead>\n",
       "  <tbody>\n",
       "    <tr>\n",
       "      <th>0</th>\n",
       "      <th>male</th>\n",
       "      <td>205</td>\n",
       "    </tr>\n",
       "    <tr>\n",
       "      <th>1</th>\n",
       "      <th>female</th>\n",
       "      <td>127</td>\n",
       "    </tr>\n",
       "  </tbody>\n",
       "</table>\n",
       "</div>"
      ],
      "text/plain": [
       "                 Age\n",
       "Survived Sex        \n",
       "0        male    205\n",
       "1        female  127"
      ]
     },
     "execution_count": 9,
     "metadata": {},
     "output_type": "execute_result"
    }
   ],
   "source": [
    "df.groupby(['Survived', 'Sex']).count()[['Age']]"
   ]
  },
  {
   "cell_type": "markdown",
   "id": "593224a9-49f2-40c2-b266-86262444b3dd",
   "metadata": {},
   "source": [
    "Surprisingly, in our dataset none of the survivors are male and all of the females have survived. This means only one column is enough to deduce the survival of the passengers with a 100% efficiency which is neither realistic nor suitable to model. Hence, we better drop the passenger sex altogether."
   ]
  },
  {
   "cell_type": "code",
   "execution_count": 10,
   "id": "e189f2d9",
   "metadata": {},
   "outputs": [
    {
     "data": {
      "image/png": "[encoded data removed]",
      "text/plain": [
       "<Figure size 1000x400 with 2 Axes>"
      ]
     },
     "metadata": {},
     "output_type": "display_data"
    }
   ],
   "source": [
    "# plot a boxplot and a density plot to visualise the surval against age\n",
    "# create subplot for the two plots and set size\n",
    "fig, ax = plt.subplots(1, 2, figsize=(10,4) )\n",
    "# set the plot background/theme\n",
    "sns.set_theme(style='darkgrid', palette=['r','g'])\n",
    "\n",
    "# plot the boxplot\n",
    "sns.boxplot(ax=ax[0], data=df, x='Survived', y='Age', \n",
    "            hue='Survived', width=.5)\n",
    "# add a median age line for survived\n",
    "ax[0].axhline(df.groupby('Survived').median()['Age'].values[0], \n",
    "              ls='--', c='r', alpha=0.5,mouseover=True\n",
    "             )\n",
    "\n",
    "# plot the density plot and color by 'Survived'\n",
    "sns.kdeplot(ax=ax[1], data=df, x='Age', hue='Survived', \n",
    "            multiple='fill', alpha=.7, cut=4\n",
    "           ) \n",
    "\n",
    "\n",
    "# set the title of the figure\n",
    "plt.suptitle('Suvival by Age', color='firebrick')\n",
    "# display the plots\n",
    "plt.show()"
   ]
  },
  {
   "cell_type": "markdown",
   "id": "c0c4aa76-f1f2-4472-af20-c3487db27e2e",
   "metadata": {},
   "source": [
    "We can see that the median of ages of the survived and not survived passangers is the same. The reason behind this is explained in the density plot besides. The density plot shows an increase in the survival of the young as well as old passengers. The age less than `zero` are the unknown ages.\n",
    "Fewer passengers in their middle ages have survived.\n",
    "\n",
    "'The sharp increase after the age of 70 is what we expect from a morally civilized society.'"
   ]
  },
  {
   "cell_type": "markdown",
   "id": "71ddac41-2843-43a6-bca4-6cbeec887888",
   "metadata": {
    "tags": []
   },
   "source": [
    "#### Embarked and Pclass"
   ]
  },
  {
   "cell_type": "markdown",
   "id": "0ecc33f2-e3b7-403a-b445-dbbe9f613480",
   "metadata": {},
   "source": [
    "Visualize the survival by the embarkment port and age."
   ]
  },
  {
   "cell_type": "code",
   "execution_count": 11,
   "id": "2c6f216e-00a3-47fa-9ae1-80979e956248",
   "metadata": {},
   "outputs": [
    {
     "data": {
      "text/plain": [
       "<Axes: xlabel='Age', ylabel='Embarked'>"
      ]
     },
     "execution_count": 11,
     "metadata": {},
     "output_type": "execute_result"
    },
    {
     "data": {
      "image/png": "[encoded data removed]",
      "text/plain": [
       "<Figure size 800x600 with 1 Axes>"
      ]
     },
     "metadata": {},
     "output_type": "display_data"
    }
   ],
   "source": [
    "plt.figure(figsize=(8, 6))\n",
    "# A violin plot of 'Age', 'Embarked', and 'Survived' columns\n",
    "sns.violinplot(data=df, x='Age', y='Embarked', hue='Survived',\n",
    "               inner=\"stick\", gap=0, bw_method='silverman', \n",
    "               legend_out=True, legend ='auto', split=True,\n",
    "               palette=['royalblue', 'teal']\n",
    "            )"
   ]
  },
  {
   "cell_type": "code",
   "execution_count": 12,
   "id": "b6e85e41-58b9-4c41-993a-e92175e7114a",
   "metadata": {},
   "outputs": [
    {
     "data": {
      "text/html": [
       "<div>\n",
       "<style scoped>\n",
       "    .dataframe tbody tr th:only-of-type {\n",
       "        vertical-align: middle;\n",
       "    }\n",
       "\n",
       "    .dataframe tbody tr th {\n",
       "        vertical-align: top;\n",
       "    }\n",
       "\n",
       "    .dataframe thead tr th {\n",
       "        text-align: left;\n",
       "    }\n",
       "\n",
       "    .dataframe thead tr:last-of-type th {\n",
       "        text-align: right;\n",
       "    }\n",
       "</style>\n",
       "<table border=\"1\" class=\"dataframe\">\n",
       "  <thead>\n",
       "    <tr>\n",
       "      <th></th>\n",
       "      <th></th>\n",
       "      <th colspan=\"3\" halign=\"left\">Age</th>\n",
       "      <th colspan=\"3\" halign=\"left\">Fare</th>\n",
       "    </tr>\n",
       "    <tr>\n",
       "      <th></th>\n",
       "      <th></th>\n",
       "      <th>mean</th>\n",
       "      <th>sum</th>\n",
       "      <th>count</th>\n",
       "      <th>mean</th>\n",
       "      <th>sum</th>\n",
       "      <th>count</th>\n",
       "    </tr>\n",
       "    <tr>\n",
       "      <th>Embarked</th>\n",
       "      <th>Pclass</th>\n",
       "      <th></th>\n",
       "      <th></th>\n",
       "      <th></th>\n",
       "      <th></th>\n",
       "      <th></th>\n",
       "      <th></th>\n",
       "    </tr>\n",
       "  </thead>\n",
       "  <tbody>\n",
       "    <tr>\n",
       "      <th rowspan=\"3\" valign=\"top\">C</th>\n",
       "      <th>1</th>\n",
       "      <td>40.481481</td>\n",
       "      <td>2186.00</td>\n",
       "      <td>54</td>\n",
       "      <td>110.073511</td>\n",
       "      <td>6164.116600</td>\n",
       "      <td>56</td>\n",
       "    </tr>\n",
       "    <tr>\n",
       "      <th>2</th>\n",
       "      <td>25.111111</td>\n",
       "      <td>226.00</td>\n",
       "      <td>9</td>\n",
       "      <td>20.120445</td>\n",
       "      <td>221.324900</td>\n",
       "      <td>11</td>\n",
       "    </tr>\n",
       "    <tr>\n",
       "      <th>3</th>\n",
       "      <td>22.973684</td>\n",
       "      <td>436.50</td>\n",
       "      <td>19</td>\n",
       "      <td>10.658700</td>\n",
       "      <td>373.054500</td>\n",
       "      <td>35</td>\n",
       "    </tr>\n",
       "    <tr>\n",
       "      <th rowspan=\"3\" valign=\"top\">Q</th>\n",
       "      <th>1</th>\n",
       "      <td>37.000000</td>\n",
       "      <td>37.00</td>\n",
       "      <td>1</td>\n",
       "      <td>90.000000</td>\n",
       "      <td>90.000000</td>\n",
       "      <td>1</td>\n",
       "    </tr>\n",
       "    <tr>\n",
       "      <th>2</th>\n",
       "      <td>52.666667</td>\n",
       "      <td>158.00</td>\n",
       "      <td>3</td>\n",
       "      <td>11.273950</td>\n",
       "      <td>45.095800</td>\n",
       "      <td>4</td>\n",
       "    </tr>\n",
       "    <tr>\n",
       "      <th>3</th>\n",
       "      <td>25.000000</td>\n",
       "      <td>450.00</td>\n",
       "      <td>18</td>\n",
       "      <td>8.998985</td>\n",
       "      <td>368.958400</td>\n",
       "      <td>41</td>\n",
       "    </tr>\n",
       "    <tr>\n",
       "      <th rowspan=\"3\" valign=\"top\">S</th>\n",
       "      <th>1</th>\n",
       "      <td>41.558140</td>\n",
       "      <td>1787.00</td>\n",
       "      <td>43</td>\n",
       "      <td>76.677504</td>\n",
       "      <td>3833.875200</td>\n",
       "      <td>50</td>\n",
       "    </tr>\n",
       "    <tr>\n",
       "      <th>2</th>\n",
       "      <td>28.268684</td>\n",
       "      <td>2148.42</td>\n",
       "      <td>76</td>\n",
       "      <td>23.056090</td>\n",
       "      <td>1798.375000</td>\n",
       "      <td>78</td>\n",
       "    </tr>\n",
       "    <tr>\n",
       "      <th>3</th>\n",
       "      <td>24.051193</td>\n",
       "      <td>2621.58</td>\n",
       "      <td>109</td>\n",
       "      <td>14.065946</td>\n",
       "      <td>1997.364388</td>\n",
       "      <td>142</td>\n",
       "    </tr>\n",
       "  </tbody>\n",
       "</table>\n",
       "</div>"
      ],
      "text/plain": [
       "                       Age                       Fare                   \n",
       "                      mean      sum count        mean          sum count\n",
       "Embarked Pclass                                                         \n",
       "C        1       40.481481  2186.00    54  110.073511  6164.116600    56\n",
       "         2       25.111111   226.00     9   20.120445   221.324900    11\n",
       "         3       22.973684   436.50    19   10.658700   373.054500    35\n",
       "Q        1       37.000000    37.00     1   90.000000    90.000000     1\n",
       "         2       52.666667   158.00     3   11.273950    45.095800     4\n",
       "         3       25.000000   450.00    18    8.998985   368.958400    41\n",
       "S        1       41.558140  1787.00    43   76.677504  3833.875200    50\n",
       "         2       28.268684  2148.42    76   23.056090  1798.375000    78\n",
       "         3       24.051193  2621.58   109   14.065946  1997.364388   142"
      ]
     },
     "execution_count": 12,
     "metadata": {},
     "output_type": "execute_result"
    }
   ],
   "source": [
    "df.groupby(['Embarked', 'Pclass']).agg(['mean','sum', 'count'])[['Age', 'Fare']]"
   ]
  },
  {
   "cell_type": "markdown",
   "id": "de433bed-932c-4b30-acc3-e9b9dcfebad7",
   "metadata": {},
   "source": [
    "The violinplot above gives us a clear view of distribution of the passangers and the ports they boarded the ship from according to their age and survival. \n",
    "The lines inside the plot represent each reading amd makes it easier to spot the readings as they occur. \n",
    "In the column S, C and Q stand for the ports of Southampton, Cherbourg, and Queenstown respectively.\n",
    "Most of passangers belong to the third class and a huge majority of them have boarded the ship from Southampton.\n",
    "\n",
    "The table below the plot futher shows the mean and sum of the ages and the ticket fares for each port's passengers divided by travelling classes."
   ]
  },
  {
   "cell_type": "markdown",
   "id": "6e4781b9-e538-4808-897c-ae115075be6d",
   "metadata": {
    "tags": []
   },
   "source": [
    "#### SibSp and Parch\n",
    "\n",
    "Let us now focus on families."
   ]
  },
  {
   "cell_type": "code",
   "execution_count": 13,
   "id": "4d4008a3-cd97-4a97-ae5c-a07e0d7efbc5",
   "metadata": {
    "tags": []
   },
   "outputs": [
    {
     "data": {
      "text/html": [
       "<div>\n",
       "<style scoped>\n",
       "    .dataframe tbody tr th:only-of-type {\n",
       "        vertical-align: middle;\n",
       "    }\n",
       "\n",
       "    .dataframe tbody tr th {\n",
       "        vertical-align: top;\n",
       "    }\n",
       "\n",
       "    .dataframe thead th {\n",
       "        text-align: right;\n",
       "    }\n",
       "</style>\n",
       "<table border=\"1\" class=\"dataframe\">\n",
       "  <thead>\n",
       "    <tr style=\"text-align: right;\">\n",
       "      <th></th>\n",
       "      <th>PassengerId</th>\n",
       "      <th>Survived</th>\n",
       "      <th>Pclass</th>\n",
       "      <th>Name</th>\n",
       "      <th>Sex</th>\n",
       "      <th>Age</th>\n",
       "      <th>SibSp</th>\n",
       "      <th>Parch</th>\n",
       "      <th>Ticket</th>\n",
       "      <th>Fare</th>\n",
       "      <th>Embarked</th>\n",
       "      <th>FamMems</th>\n",
       "    </tr>\n",
       "  </thead>\n",
       "  <tbody>\n",
       "    <tr>\n",
       "      <th>0</th>\n",
       "      <td>892</td>\n",
       "      <td>0</td>\n",
       "      <td>3</td>\n",
       "      <td>Kelly, Mr. James</td>\n",
       "      <td>male</td>\n",
       "      <td>34.5</td>\n",
       "      <td>0</td>\n",
       "      <td>0</td>\n",
       "      <td>330911</td>\n",
       "      <td>7.8292</td>\n",
       "      <td>Q</td>\n",
       "      <td>1</td>\n",
       "    </tr>\n",
       "    <tr>\n",
       "      <th>1</th>\n",
       "      <td>893</td>\n",
       "      <td>1</td>\n",
       "      <td>3</td>\n",
       "      <td>Wilkes, Mrs. James (Ellen Needs)</td>\n",
       "      <td>female</td>\n",
       "      <td>47.0</td>\n",
       "      <td>1</td>\n",
       "      <td>0</td>\n",
       "      <td>363272</td>\n",
       "      <td>7.0000</td>\n",
       "      <td>S</td>\n",
       "      <td>2</td>\n",
       "    </tr>\n",
       "    <tr>\n",
       "      <th>2</th>\n",
       "      <td>894</td>\n",
       "      <td>0</td>\n",
       "      <td>2</td>\n",
       "      <td>Myles, Mr. Thomas Francis</td>\n",
       "      <td>male</td>\n",
       "      <td>62.0</td>\n",
       "      <td>0</td>\n",
       "      <td>0</td>\n",
       "      <td>240276</td>\n",
       "      <td>9.6875</td>\n",
       "      <td>Q</td>\n",
       "      <td>1</td>\n",
       "    </tr>\n",
       "    <tr>\n",
       "      <th>3</th>\n",
       "      <td>895</td>\n",
       "      <td>0</td>\n",
       "      <td>3</td>\n",
       "      <td>Wirz, Mr. Albert</td>\n",
       "      <td>male</td>\n",
       "      <td>27.0</td>\n",
       "      <td>0</td>\n",
       "      <td>0</td>\n",
       "      <td>315154</td>\n",
       "      <td>8.6625</td>\n",
       "      <td>S</td>\n",
       "      <td>1</td>\n",
       "    </tr>\n",
       "    <tr>\n",
       "      <th>4</th>\n",
       "      <td>896</td>\n",
       "      <td>1</td>\n",
       "      <td>3</td>\n",
       "      <td>Hirvonen, Mrs. Alexander (Helga E Lindqvist)</td>\n",
       "      <td>female</td>\n",
       "      <td>22.0</td>\n",
       "      <td>1</td>\n",
       "      <td>1</td>\n",
       "      <td>3101298</td>\n",
       "      <td>12.2875</td>\n",
       "      <td>S</td>\n",
       "      <td>3</td>\n",
       "    </tr>\n",
       "  </tbody>\n",
       "</table>\n",
       "</div>"
      ],
      "text/plain": [
       "   PassengerId  Survived  Pclass  \\\n",
       "0          892         0       3   \n",
       "1          893         1       3   \n",
       "2          894         0       2   \n",
       "3          895         0       3   \n",
       "4          896         1       3   \n",
       "\n",
       "                                           Name     Sex   Age  SibSp  Parch  \\\n",
       "0                              Kelly, Mr. James    male  34.5      0      0   \n",
       "1              Wilkes, Mrs. James (Ellen Needs)  female  47.0      1      0   \n",
       "2                     Myles, Mr. Thomas Francis    male  62.0      0      0   \n",
       "3                              Wirz, Mr. Albert    male  27.0      0      0   \n",
       "4  Hirvonen, Mrs. Alexander (Helga E Lindqvist)  female  22.0      1      1   \n",
       "\n",
       "    Ticket     Fare Embarked  FamMems  \n",
       "0   330911   7.8292        Q        1  \n",
       "1   363272   7.0000        S        2  \n",
       "2   240276   9.6875        Q        1  \n",
       "3   315154   8.6625        S        1  \n",
       "4  3101298  12.2875        S        3  "
      ]
     },
     "execution_count": 13,
     "metadata": {},
     "output_type": "execute_result"
    }
   ],
   "source": [
    "# number of people belonging to the same family\n",
    "df['FamMems'] = df.SibSp + df.Parch + 1\n",
    "df.head()"
   ]
  },
  {
   "cell_type": "markdown",
   "id": "c79d47fa-3cbc-4fc0-9f99-5377eecacc84",
   "metadata": {},
   "source": [
    "We have sucessfully added a new column that contains the number of people travelling together or the number of family members travelling together."
   ]
  },
  {
   "cell_type": "markdown",
   "id": "26fbec60-d32a-46c6-b78a-a431c91d9fcd",
   "metadata": {},
   "source": [
    "Now we see how many of them have managed to survive."
   ]
  },
  {
   "cell_type": "code",
   "execution_count": 14,
   "id": "4dbbe3a2-e1e9-4bb2-b185-7feb10ecbe2b",
   "metadata": {},
   "outputs": [
    {
     "data": {
      "text/plain": [
       "<Axes: xlabel='FamMems', ylabel='Age'>"
      ]
     },
     "execution_count": 14,
     "metadata": {},
     "output_type": "execute_result"
    },
    {
     "data": {
      "image/png": "[encoded data removed]",
      "text/plain": [
       "<Figure size 1400x400 with 1 Axes>"
      ]
     },
     "metadata": {},
     "output_type": "display_data"
    }
   ],
   "source": [
    "plt.figure(figsize=(14,4))\n",
    "sns.pointplot(df, x='FamMems', y='Age', hue='Survived', \n",
    "              dodge=True, estimator='mean', \n",
    "              markers=['o','s'], \n",
    "              palette=['indianred','darkolivegreen']\n",
    "             )"
   ]
  },
  {
   "cell_type": "markdown",
   "id": "cc61883c-b588-4ca0-9367-1a46c043a24a",
   "metadata": {
    "tags": []
   },
   "source": [
    "There are a maximum of 10 members with any of the passangers. \n",
    "Most passengers in their mid years have most family members travelling with them, as expected.\n",
    "\n",
    "The passengers in a group of 5 and 7 have very high chances og not surviving while it the exact opposite for a group of 6. Miraculous!"
   ]
  },
  {
   "cell_type": "markdown",
   "id": "ccf19c77-6930-44f2-827b-c4ee7ce92bc8",
   "metadata": {},
   "source": [
    "> I would hereby like to work with the entire family data instead of the sibling/spouse and parent/children seperately. In case where I do not need to indentify the nature of family this will be more suitable. However, if one wishes to dig deeper into the nature of travelling and the relation between the survivors and the non-survivors, they may consider all the three columns."
   ]
  },
  {
   "cell_type": "markdown",
   "id": "76cde768-4d10-49d4-beea-b7f102cbd847",
   "metadata": {
    "tags": []
   },
   "source": [
    "# Data preprocessing"
   ]
  },
  {
   "cell_type": "markdown",
   "id": "bbe97ae6-b01b-4d6d-8af1-e48e79d47329",
   "metadata": {},
   "source": [
    "We will now extract _titles_ of the passengers. Extracting the titles will help us determine the social status of the passenger and thus the impact f their survival."
   ]
  },
  {
   "cell_type": "markdown",
   "id": "621b47c7-e161-4f68-9a25-612ce7ec68ff",
   "metadata": {
    "tags": []
   },
   "source": [
    "##### Extract passenger titles"
   ]
  },
  {
   "cell_type": "code",
   "execution_count": 15,
   "id": "40b48313-5459-4701-add6-e74881a5c8c9",
   "metadata": {},
   "outputs": [
    {
     "name": "stdout",
     "output_type": "stream",
     "text": [
      "The titles present in the dataframe are:\n"
     ]
    },
    {
     "data": {
      "text/plain": [
       "array(['Mr', 'Mrs', 'Miss', 'Master', 'Ms', 'Col', 'Rev', 'Dr', 'Dona'],\n",
       "      dtype=object)"
      ]
     },
     "execution_count": 15,
     "metadata": {},
     "output_type": "execute_result"
    }
   ],
   "source": [
    "# extract the titles of the passangers\n",
    "df['Titles']= df.Name.str.extract('([A-Za-z]+)\\.', expand=False)\n",
    "\n",
    "print('The titles present in the dataframe are:')\n",
    "df.Titles.unique()"
   ]
  },
  {
   "cell_type": "markdown",
   "id": "fd94ac89-d293-49c8-9697-46a5b3511cef",
   "metadata": {},
   "source": [
    "Let us treat the gender non-specific titles as \"rare\" to make it easy for ourselves to decide the passenger's status."
   ]
  },
  {
   "cell_type": "code",
   "execution_count": 16,
   "id": "2e06f613-43e7-4e7b-8a3b-4c85a19850bb",
   "metadata": {},
   "outputs": [
    {
     "data": {
      "text/plain": [
       "array(['Mr', 'Mrs', 'Miss', 'Master', 'Ms', 'Rare'], dtype=object)"
      ]
     },
     "execution_count": 16,
     "metadata": {},
     "output_type": "execute_result"
    }
   ],
   "source": [
    "df.Titles.replace(['Col', 'Rev', 'Dr', 'Dona'], 'Rare', inplace=True)\n",
    "df.Titles.unique()"
   ]
  },
  {
   "cell_type": "markdown",
   "id": "31a97912-b1dc-4397-b7fb-09ec80f7c172",
   "metadata": {},
   "source": [
    "The remaining titles tell us of the passengers' age and marital status thus they are better kept seperate."
   ]
  },
  {
   "cell_type": "markdown",
   "id": "f82a01fa-2358-4715-ac17-d4f5c9a19542",
   "metadata": {
    "tags": []
   },
   "source": [
    "##### Transform the catagorical data"
   ]
  },
  {
   "cell_type": "code",
   "execution_count": 17,
   "id": "27728878-d9b7-497a-9d18-7b3c2efc39e6",
   "metadata": {},
   "outputs": [],
   "source": [
    "# Do not run multiple times\n",
    "le_titles = preprocessing.LabelEncoder()\n",
    "df.Titles = le_titles.fit_transform(df.Titles)"
   ]
  },
  {
   "cell_type": "code",
   "execution_count": 18,
   "id": "f6f195f1",
   "metadata": {},
   "outputs": [
    {
     "data": {
      "text/plain": [
       "array(['C', 'Q', 'S'], dtype=object)"
      ]
     },
     "execution_count": 18,
     "metadata": {},
     "output_type": "execute_result"
    }
   ],
   "source": [
    "le_embarked = preprocessing.LabelEncoder()\n",
    "\n",
    "# fit embarked column\n",
    "df.Embarked = le_embarked.fit_transform(df['Embarked'])\n",
    "le_embarked.classes_"
   ]
  },
  {
   "cell_type": "markdown",
   "id": "2e1edb14-da51-4954-b8f9-e4ccfca0d43e",
   "metadata": {},
   "source": [
    "classes: C, Q, S \n",
    "\n",
    "transformed values: 0, 1, 2"
   ]
  },
  {
   "cell_type": "markdown",
   "id": "525713cc-964e-4e58-baf2-d41ec2e5f0e7",
   "metadata": {},
   "source": [
    "We have successfully transformed the catagorical data into numerical data that we can use for our further analsis.\n",
    "\n",
    "Let us check the correlation matrix once again but this time only for the `Survived` column."
   ]
  },
  {
   "cell_type": "markdown",
   "id": "9748df0f-e7a4-4872-972e-14e1a7c491a6",
   "metadata": {
    "tags": []
   },
   "source": [
    "##### Check the `Ticket` column"
   ]
  },
  {
   "cell_type": "code",
   "execution_count": 19,
   "id": "5e7bc4d3-247f-4114-8ca6-c0f750cffa5f",
   "metadata": {},
   "outputs": [
    {
     "data": {
      "text/plain": [
       "count          418\n",
       "unique         363\n",
       "top       PC 17608\n",
       "freq             5\n",
       "Name: Ticket, dtype: object"
      ]
     },
     "execution_count": 19,
     "metadata": {},
     "output_type": "execute_result"
    }
   ],
   "source": [
    "df.Ticket.describe()"
   ]
  },
  {
   "cell_type": "markdown",
   "id": "dec502ea-22ae-4d89-a375-746290b8c899",
   "metadata": {},
   "source": [
    "The Ticket column is an object type data and contains the ticket number. We cannot convert such huge number of catagories to numerical frm as it will be of no avail to us. Hence, we will drop this column."
   ]
  },
  {
   "cell_type": "markdown",
   "id": "0858bb03-58f6-4bca-a216-151998a1bbef",
   "metadata": {},
   "source": [
    "We have successfully transformed the relevent catagorical columns to the numerical type that can be used for modeling."
   ]
  },
  {
   "cell_type": "code",
   "execution_count": 20,
   "id": "015aa376-d35d-4f34-841c-4fc215ceae98",
   "metadata": {},
   "outputs": [
    {
     "data": {
      "image/png": "[encoded data removed]",
      "text/plain": [
       "<Figure size 300x600 with 2 Axes>"
      ]
     },
     "metadata": {},
     "output_type": "display_data"
    }
   ],
   "source": [
    "plt.figure(figsize=(3, 6))\n",
    "heatmap = sns.heatmap(df.corr()[['Survived']].sort_values(by='Survived', ascending=False), \n",
    "                      annot=True, cmap='BrBG', vmin=-1, vmax=1\n",
    "                     )"
   ]
  },
  {
   "cell_type": "markdown",
   "id": "59e2aefa-de4e-43c2-bd5f-40ea2d146dca",
   "metadata": {},
   "source": [
    "We can rightfully see the addition of the columns previously belonging to the catagorial dtype"
   ]
  },
  {
   "cell_type": "markdown",
   "id": "855a0fa6-19fb-463e-95aa-8d9be51db6ff",
   "metadata": {
    "tags": []
   },
   "source": [
    "### Tranform `Age` to catagories"
   ]
  },
  {
   "cell_type": "markdown",
   "id": "dc425654-05a5-4011-be90-b70e6fa94a11",
   "metadata": {},
   "source": [
    "Age data is too widespread. It will be more efficient it to age-groups and then to suitable catagories.\n",
    "\n",
    "> _NOTE_:  Any age below `zero` is to betermed as unknown along with the null values."
   ]
  },
  {
   "cell_type": "code",
   "execution_count": 21,
   "id": "a2b8e055-4646-4fa4-bb11-1df5ffeac347",
   "metadata": {},
   "outputs": [],
   "source": [
    "df['AgeGroup'] = pd.cut(df.Age,\n",
    "                        bins = [-1, 0, 5, 12, 18, 24, 35, 60, np.inf], \n",
    "                        labels = ['Unknown', 'Baby', 'Child', 'Teenager', 'Student', 'Young Adult', 'Adult', 'Senior'] \n",
    "                       ).fillna('Unknown')"
   ]
  },
  {
   "cell_type": "code",
   "execution_count": 22,
   "id": "3a43b4eb-45ed-47e9-8c05-51abebce8eb6",
   "metadata": {},
   "outputs": [
    {
     "data": {
      "text/html": [
       "<div>\n",
       "<style scoped>\n",
       "    .dataframe tbody tr th:only-of-type {\n",
       "        vertical-align: middle;\n",
       "    }\n",
       "\n",
       "    .dataframe tbody tr th {\n",
       "        vertical-align: top;\n",
       "    }\n",
       "\n",
       "    .dataframe thead th {\n",
       "        text-align: right;\n",
       "    }\n",
       "</style>\n",
       "<table border=\"1\" class=\"dataframe\">\n",
       "  <thead>\n",
       "    <tr style=\"text-align: right;\">\n",
       "      <th></th>\n",
       "      <th>Age</th>\n",
       "      <th>AgeGroup</th>\n",
       "    </tr>\n",
       "  </thead>\n",
       "  <tbody>\n",
       "    <tr>\n",
       "      <th>0</th>\n",
       "      <td>34.5</td>\n",
       "      <td>Young Adult</td>\n",
       "    </tr>\n",
       "    <tr>\n",
       "      <th>1</th>\n",
       "      <td>47.0</td>\n",
       "      <td>Adult</td>\n",
       "    </tr>\n",
       "    <tr>\n",
       "      <th>2</th>\n",
       "      <td>62.0</td>\n",
       "      <td>Senior</td>\n",
       "    </tr>\n",
       "    <tr>\n",
       "      <th>3</th>\n",
       "      <td>27.0</td>\n",
       "      <td>Young Adult</td>\n",
       "    </tr>\n",
       "    <tr>\n",
       "      <th>4</th>\n",
       "      <td>22.0</td>\n",
       "      <td>Student</td>\n",
       "    </tr>\n",
       "  </tbody>\n",
       "</table>\n",
       "</div>"
      ],
      "text/plain": [
       "    Age     AgeGroup\n",
       "0  34.5  Young Adult\n",
       "1  47.0        Adult\n",
       "2  62.0       Senior\n",
       "3  27.0  Young Adult\n",
       "4  22.0      Student"
      ]
     },
     "execution_count": 22,
     "metadata": {},
     "output_type": "execute_result"
    }
   ],
   "source": [
    "df[['Age', 'AgeGroup']].head()"
   ]
  },
  {
   "cell_type": "markdown",
   "id": "b4734fa7-c44d-4cc2-a3c1-5ff7c188f398",
   "metadata": {},
   "source": [
    "The age-groups have been created cuccessfully, now we can convert this column to numerical datatype."
   ]
  },
  {
   "cell_type": "code",
   "execution_count": 23,
   "id": "4954a77f",
   "metadata": {},
   "outputs": [
    {
     "data": {
      "text/html": [
       "<div>\n",
       "<style scoped>\n",
       "    .dataframe tbody tr th:only-of-type {\n",
       "        vertical-align: middle;\n",
       "    }\n",
       "\n",
       "    .dataframe tbody tr th {\n",
       "        vertical-align: top;\n",
       "    }\n",
       "\n",
       "    .dataframe thead th {\n",
       "        text-align: right;\n",
       "    }\n",
       "</style>\n",
       "<table border=\"1\" class=\"dataframe\">\n",
       "  <thead>\n",
       "    <tr style=\"text-align: right;\">\n",
       "      <th></th>\n",
       "      <th>Age</th>\n",
       "      <th>AgeGroup</th>\n",
       "    </tr>\n",
       "  </thead>\n",
       "  <tbody>\n",
       "    <tr>\n",
       "      <th>0</th>\n",
       "      <td>34.5</td>\n",
       "      <td>5</td>\n",
       "    </tr>\n",
       "    <tr>\n",
       "      <th>1</th>\n",
       "      <td>47.0</td>\n",
       "      <td>6</td>\n",
       "    </tr>\n",
       "    <tr>\n",
       "      <th>2</th>\n",
       "      <td>62.0</td>\n",
       "      <td>7</td>\n",
       "    </tr>\n",
       "    <tr>\n",
       "      <th>3</th>\n",
       "      <td>27.0</td>\n",
       "      <td>5</td>\n",
       "    </tr>\n",
       "    <tr>\n",
       "      <th>4</th>\n",
       "      <td>22.0</td>\n",
       "      <td>4</td>\n",
       "    </tr>\n",
       "  </tbody>\n",
       "</table>\n",
       "</div>"
      ],
      "text/plain": [
       "    Age AgeGroup\n",
       "0  34.5        5\n",
       "1  47.0        6\n",
       "2  62.0        7\n",
       "3  27.0        5\n",
       "4  22.0        4"
      ]
     },
     "execution_count": 23,
     "metadata": {},
     "output_type": "execute_result"
    }
   ],
   "source": [
    "age_map = {'Unknown':0, 'Baby':1, 'Child':2, 'Teenager':3, 'Student':4, 'Young Adult':5, 'Adult':6, 'Senior':7}\n",
    "# map the dictionary to the column/Series\n",
    "df.AgeGroup = df['AgeGroup'].map(age_map)\n",
    "df[['Age', 'AgeGroup']].head()"
   ]
  },
  {
   "cell_type": "markdown",
   "id": "c6d0d214-328b-4ebd-a3f6-4845a7d16848",
   "metadata": {},
   "source": [
    "`AgeGroup` has been converted to a numerical catagory column. We no longer need the age column."
   ]
  },
  {
   "cell_type": "markdown",
   "id": "7b1f052c-d313-4dc5-8c87-5baf98245a5e",
   "metadata": {},
   "source": [
    "## Model Training"
   ]
  },
  {
   "cell_type": "markdown",
   "id": "d6d68fe5-aa50-4177-a691-2937f6e9b89d",
   "metadata": {
    "tags": []
   },
   "source": [
    "#### Function to plot the probabilities of prediction"
   ]
  },
  {
   "cell_type": "code",
   "execution_count": 24,
   "id": "d3131a24-1552-4080-8942-0cde407fa18e",
   "metadata": {},
   "outputs": [],
   "source": [
    "def plot_probability_array(X,probability_array, model):\n",
    "\n",
    "    plot_array=np.zeros((X.shape[0],20))\n",
    "    col_start=0\n",
    "    ones=np.ones((X.shape[0],20))\n",
    "    for class_,col_end in enumerate([10,20]):\n",
    "        plot_array[:,col_start:col_end]= np.repeat(probability_array[:,class_].reshape(-1,1), 10,axis=1)\n",
    "        col_start=col_end\n",
    "    plt.imshow(plot_array, vmax=1, vmin=0, cmap='Blues')\n",
    "    plt.xticks([])\n",
    "    plt.xlabel(f\"{model}\")\n",
    "    plt.ylabel(\"Probability of Survival\")\n",
    "    plt.colorbar()\n",
    "    plt.show()"
   ]
  },
  {
   "cell_type": "markdown",
   "id": "60e8cce9-c805-4df7-8f68-ee77b740bc7c",
   "metadata": {
    "tags": []
   },
   "source": [
    "### Preparing data for modeling"
   ]
  },
  {
   "cell_type": "markdown",
   "id": "e141be90-24df-425d-b820-5e8864c18e46",
   "metadata": {},
   "source": [
    "Remember all the columns we said we dont need? \n",
    "\n",
    "Just exclude them all here. This keeps our dataframe safe and we can come back to it to get those columns in case they are needed."
   ]
  },
  {
   "cell_type": "code",
   "execution_count": 25,
   "id": "30640b7d-c79d-454d-bc03-edee009f4cb2",
   "metadata": {},
   "outputs": [
    {
     "data": {
      "text/html": [
       "<div>\n",
       "<style scoped>\n",
       "    .dataframe tbody tr th:only-of-type {\n",
       "        vertical-align: middle;\n",
       "    }\n",
       "\n",
       "    .dataframe tbody tr th {\n",
       "        vertical-align: top;\n",
       "    }\n",
       "\n",
       "    .dataframe thead th {\n",
       "        text-align: right;\n",
       "    }\n",
       "</style>\n",
       "<table border=\"1\" class=\"dataframe\">\n",
       "  <thead>\n",
       "    <tr style=\"text-align: right;\">\n",
       "      <th></th>\n",
       "      <th>Survived</th>\n",
       "      <th>Pclass</th>\n",
       "      <th>Embarked</th>\n",
       "      <th>FamMems</th>\n",
       "      <th>Titles</th>\n",
       "      <th>AgeGroup</th>\n",
       "    </tr>\n",
       "  </thead>\n",
       "  <tbody>\n",
       "    <tr>\n",
       "      <th>0</th>\n",
       "      <td>0</td>\n",
       "      <td>3</td>\n",
       "      <td>1</td>\n",
       "      <td>1</td>\n",
       "      <td>2</td>\n",
       "      <td>5</td>\n",
       "    </tr>\n",
       "    <tr>\n",
       "      <th>1</th>\n",
       "      <td>1</td>\n",
       "      <td>3</td>\n",
       "      <td>2</td>\n",
       "      <td>2</td>\n",
       "      <td>3</td>\n",
       "      <td>6</td>\n",
       "    </tr>\n",
       "    <tr>\n",
       "      <th>2</th>\n",
       "      <td>0</td>\n",
       "      <td>2</td>\n",
       "      <td>1</td>\n",
       "      <td>1</td>\n",
       "      <td>2</td>\n",
       "      <td>7</td>\n",
       "    </tr>\n",
       "    <tr>\n",
       "      <th>3</th>\n",
       "      <td>0</td>\n",
       "      <td>3</td>\n",
       "      <td>2</td>\n",
       "      <td>1</td>\n",
       "      <td>2</td>\n",
       "      <td>5</td>\n",
       "    </tr>\n",
       "    <tr>\n",
       "      <th>4</th>\n",
       "      <td>1</td>\n",
       "      <td>3</td>\n",
       "      <td>2</td>\n",
       "      <td>3</td>\n",
       "      <td>3</td>\n",
       "      <td>4</td>\n",
       "    </tr>\n",
       "  </tbody>\n",
       "</table>\n",
       "</div>"
      ],
      "text/plain": [
       "   Survived  Pclass  Embarked  FamMems  Titles AgeGroup\n",
       "0         0       3         1        1       2        5\n",
       "1         1       3         2        2       3        6\n",
       "2         0       2         1        1       2        7\n",
       "3         0       3         2        1       2        5\n",
       "4         1       3         2        3       3        4"
      ]
     },
     "execution_count": 25,
     "metadata": {},
     "output_type": "execute_result"
    }
   ],
   "source": [
    "data = df.drop(['PassengerId', 'Ticket', 'Name', 'SibSp', 'Parch', 'Age', 'Fare', 'Sex'], axis=1)\n",
    "data.head()"
   ]
  },
  {
   "cell_type": "code",
   "execution_count": 26,
   "id": "3b3c12a0",
   "metadata": {},
   "outputs": [
    {
     "data": {
      "text/plain": [
       "((418, 5), (418,))"
      ]
     },
     "execution_count": 26,
     "metadata": {},
     "output_type": "execute_result"
    }
   ],
   "source": [
    "X = data.drop('Survived', axis=1)\n",
    "Y = data['Survived']\n",
    "# verify that the shapes of the data match\n",
    "X.shape, Y.shape"
   ]
  },
  {
   "cell_type": "markdown",
   "id": "a45725ad-bb8d-4eeb-b899-ff166da26237",
   "metadata": {},
   "source": [
    "Segregate the dat into training and testing datasest."
   ]
  },
  {
   "cell_type": "code",
   "execution_count": 27,
   "id": "5cae53a4",
   "metadata": {},
   "outputs": [],
   "source": [
    "x_train, x_test, y_train, y_test = train_test_split( X, Y, test_size=0.3, # leave 30% of the data for testing\n",
    "                                                    random_state=0)"
   ]
  },
  {
   "cell_type": "code",
   "execution_count": 28,
   "id": "aee18ceb",
   "metadata": {},
   "outputs": [
    {
     "name": "stdout",
     "output_type": "stream",
     "text": [
      "Train data: (292, 5) (292,)\n",
      "Test data: (126, 5) (126,)\n"
     ]
    }
   ],
   "source": [
    "print(\"Train data:\", x_train.shape, y_train.shape)\n",
    "print('Test data:',x_test.shape, y_test.shape)"
   ]
  },
  {
   "cell_type": "markdown",
   "id": "c8033105-9e2f-4a60-8698-8ca94fdfc0c1",
   "metadata": {},
   "source": [
    "## Data Models"
   ]
  },
  {
   "cell_type": "markdown",
   "id": "a3d37855-e996-4cfa-8cbe-9346fb404285",
   "metadata": {
    "tags": []
   },
   "source": [
    "### 1. K nearest Neighbours"
   ]
  },
  {
   "cell_type": "code",
   "execution_count": 29,
   "id": "047b20e7-8384-484c-8b57-edc69542c4d4",
   "metadata": {},
   "outputs": [
    {
     "data": {
      "text/plain": [
       "(0.92, 0.71, 0.41, 0.58)"
      ]
     },
     "execution_count": 29,
     "metadata": {},
     "output_type": "execute_result"
    }
   ],
   "source": [
    "# K-nearest neighbors\n",
    "knn = KNeighborsClassifier(n_neighbors = 4)\n",
    "knn.fit(x_train, y_train)\n",
    "Yhat_knn = knn.predict(x_test)\n",
    "\n",
    "r2_knn = round(knn.score(x_train, y_train), 2)\n",
    "acc_score_knn = round(accuracy_score(Yhat_knn, y_test), 2)\n",
    "jacc_score_knn = round(jaccard_score(y_test, Yhat_knn), 2)\n",
    "f1_score_knn = round(metrics.f1_score(y_test, Yhat_knn), 2)\n",
    "\n",
    "r2_knn, acc_score_knn, jacc_score_knn, f1_score_knn"
   ]
  },
  {
   "cell_type": "markdown",
   "id": "7bb4cb13-5eed-4221-9cd1-c134c6e947fe",
   "metadata": {
    "tags": []
   },
   "source": [
    "### 2. SVM"
   ]
  },
  {
   "cell_type": "code",
   "execution_count": 30,
   "id": "ed27a212-d239-482a-93f8-c63bc23cc48b",
   "metadata": {},
   "outputs": [
    {
     "data": {
      "text/plain": [
       "(0.77, 0.64, 0.25, 0.4)"
      ]
     },
     "execution_count": 30,
     "metadata": {},
     "output_type": "execute_result"
    }
   ],
   "source": [
    "# Support Vector Machines\n",
    "svc = SVC(probability=True)\n",
    "svc.fit(x_train, y_train)\n",
    "Yhat_svc = svc.predict(x_test)\n",
    "\n",
    "r2_svc = round( svc.score(x_train, y_train), 2)\n",
    "acc_score_svc = round( accuracy_score(Yhat_svc, y_test), 2)\n",
    "jacc_score_svc = round( jaccard_score(y_test, Yhat_svc), 2)\n",
    "f1_score_svc = round( metrics.f1_score(y_test, Yhat_svc), 2)\n",
    "\n",
    "r2_svc, acc_score_svc, jacc_score_svc, f1_score_svc"
   ]
  },
  {
   "cell_type": "markdown",
   "id": "aa2f60d5-e686-47b2-837e-434d77fb2771",
   "metadata": {
    "tags": []
   },
   "source": [
    "### 3. Logistic Regression"
   ]
  },
  {
   "cell_type": "code",
   "execution_count": 31,
   "id": "1b01a842-b014-4a41-8e0e-2dea24c4a587",
   "metadata": {},
   "outputs": [
    {
     "data": {
      "text/plain": [
       "(67.81, 0.55, 0.07, 0.12)"
      ]
     },
     "execution_count": 31,
     "metadata": {},
     "output_type": "execute_result"
    }
   ],
   "source": [
    "lr = LogisticRegression(random_state=0).fit(x_train, y_train)\n",
    "Yhat_lr = lr.predict(x_test)\n",
    "\n",
    "r2_lr = round( lr.score(x_train, y_train) * 100, 2)\n",
    "acc_score_lr = round( accuracy_score(Yhat_lr, y_test), 2)\n",
    "jacc_score_lr = round( jaccard_score(y_test, Yhat_lr), 2)\n",
    "f1_score_lr = round( metrics.f1_score(y_test, Yhat_lr), 2)\n",
    "\n",
    "r2_lr, acc_score_lr, jacc_score_lr, f1_score_lr"
   ]
  },
  {
   "cell_type": "markdown",
   "id": "aa184c2a-eaed-49be-8fed-f19449b73eba",
   "metadata": {},
   "source": [
    "## Evaluation"
   ]
  },
  {
   "cell_type": "markdown",
   "id": "a2195765-9d4d-4673-9af5-8a80f855f3f2",
   "metadata": {},
   "source": [
    "We must evaluate our models to find out the best suited model for this dataset."
   ]
  },
  {
   "cell_type": "code",
   "execution_count": 32,
   "id": "ff7efbfe-1b7d-4fb5-834a-8a69b6b09f66",
   "metadata": {},
   "outputs": [
    {
     "data": {
      "text/html": [
       "<div>\n",
       "<style scoped>\n",
       "    .dataframe tbody tr th:only-of-type {\n",
       "        vertical-align: middle;\n",
       "    }\n",
       "\n",
       "    .dataframe tbody tr th {\n",
       "        vertical-align: top;\n",
       "    }\n",
       "\n",
       "    .dataframe thead th {\n",
       "        text-align: right;\n",
       "    }\n",
       "</style>\n",
       "<table border=\"1\" class=\"dataframe\">\n",
       "  <thead>\n",
       "    <tr style=\"text-align: right;\">\n",
       "      <th></th>\n",
       "      <th>Model</th>\n",
       "      <th>r2_sc</th>\n",
       "      <th>accuracy_sc</th>\n",
       "      <th>jaccard_sc</th>\n",
       "      <th>f1_sc</th>\n",
       "    </tr>\n",
       "  </thead>\n",
       "  <tbody>\n",
       "    <tr>\n",
       "      <th>0</th>\n",
       "      <td>KNN</td>\n",
       "      <td>0.92</td>\n",
       "      <td>0.71</td>\n",
       "      <td>0.41</td>\n",
       "      <td>0.58</td>\n",
       "    </tr>\n",
       "    <tr>\n",
       "      <th>1</th>\n",
       "      <td>SVC</td>\n",
       "      <td>0.77</td>\n",
       "      <td>0.64</td>\n",
       "      <td>0.25</td>\n",
       "      <td>0.40</td>\n",
       "    </tr>\n",
       "    <tr>\n",
       "      <th>2</th>\n",
       "      <td>LogR</td>\n",
       "      <td>67.81</td>\n",
       "      <td>0.55</td>\n",
       "      <td>0.07</td>\n",
       "      <td>0.12</td>\n",
       "    </tr>\n",
       "  </tbody>\n",
       "</table>\n",
       "</div>"
      ],
      "text/plain": [
       "  Model  r2_sc  accuracy_sc  jaccard_sc  f1_sc\n",
       "0   KNN   0.92         0.71        0.41   0.58\n",
       "1   SVC   0.77         0.64        0.25   0.40\n",
       "2  LogR  67.81         0.55        0.07   0.12"
      ]
     },
     "execution_count": 32,
     "metadata": {},
     "output_type": "execute_result"
    }
   ],
   "source": [
    "model_performance = {'Model':['KNN', 'SVC', 'LogR'],\n",
    "                     'r2_sc': [r2_knn, r2_svc, r2_lr],\n",
    "                     'accuracy_sc': [acc_score_knn, acc_score_svc, acc_score_lr],\n",
    "                     'jaccard_sc': [jacc_score_knn, jacc_score_svc, jacc_score_lr],\n",
    "                     'f1_sc': [f1_score_knn, f1_score_svc, f1_score_lr]\n",
    "                    }\n",
    "\n",
    "model_df = pd.DataFrame(model_performance)\n",
    "model_df.head()"
   ]
  },
  {
   "cell_type": "markdown",
   "id": "059d8daf-383e-4895-b4c5-aa6f93277a69",
   "metadata": {},
   "source": [
    "We can verify accross the various scores that KNN turn out to be the best model among the three. This maybe because a group of people belonging to the same part of the ship with same travelling class have better or worse chances of surviving."
   ]
  },
  {
   "cell_type": "markdown",
   "id": "4c65d6b9-21eb-4b1c-a669-4aff8f370b43",
   "metadata": {},
   "source": [
    "Let us also take a look at the probability of these predictions."
   ]
  },
  {
   "cell_type": "code",
   "execution_count": null,
   "id": "c0eb370f-6b2c-43cc-821d-f39bd29f0f4a",
   "metadata": {
    "tags": []
   },
   "outputs": [
    {
     "data": {
      "image/png": "[encoded data removed]",
      "text/plain": [
       "<Figure size 640x480 with 2 Axes>"
      ]
     },
     "metadata": {},
     "output_type": "display_data"
    },
    {
     "data": {
      "image/png": "[encoded data removed]",
      "text/plain": [
       "<Figure size 640x480 with 2 Axes>"
      ]
     },
     "metadata": {},
     "output_type": "display_data"
    },
    {
     "data": {
      "image/png": "[encoded data removed]",
      "text/plain": [
       "<Figure size 640x480 with 2 Axes>"
      ]
     },
     "metadata": {},
     "output_type": "display_data"
    }
   ],
   "source": [
    "# prediction probability of different models\n",
    "knn_probability = knn.predict_proba(x_test)\n",
    "svc_probability = svc.predict_proba(x_test)\n",
    "lr_probability = lr.predict_proba(x_test)\n",
    "\n",
    "# plot the probability arrays\n",
    "plot_probability_array(x_test, knn_probability, 'KNN')\n",
    "plot_probability_array(x_test, svc_probability, 'SVC')\n",
    "plot_probability_array(x_test, lr_probability, 'LR')"
   ]
  },
  {
   "cell_type": "markdown",
   "id": "996bad11-4abd-4e15-94da-ef0e06bdfe11",
   "metadata": {},
   "source": [
    "## Conclusion\n",
    "\n",
    "* We have built a machine learning model of thetitanic dataset.\n",
    "* We compared the three data models against each other based on various evaluation scores.\n",
    "* KNN is the best suited model for this dataset under our given assumptions.\n",
    "* We further found the survival probability according to various models and visualized them."
   ]
  },
  {
   "cell_type": "markdown",
   "id": "85c05216-718c-4188-a2e0-8f09b31c82c2",
   "metadata": {},
   "source": [
    "> ## Thank You for scrolling Through"
   ]
  }
 ],
 "metadata": {
  "kernelspec": {
   "display_name": "Python 3 (ipykernel)",
   "language": "python",
   "name": "python3"
  },
  "language_info": {
   "codemirror_mode": {
    "name": "ipython",
    "version": 3
   },
   "file_extension": ".py",
   "mimetype": "text/x-python",
   "name": "python",
   "nbconvert_exporter": "python",
   "pygments_lexer": "ipython3",
   "version": "3.10.9"
  },
  "toc-autonumbering": false
 },
 "nbformat": 4,
 "nbformat_minor": 5
}
